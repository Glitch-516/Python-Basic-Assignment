{
  "nbformat": 4,
  "nbformat_minor": 0,
  "metadata": {
    "colab": {
      "provenance": [],
      "history_visible": true
    },
    "kernelspec": {
      "name": "python3",
      "display_name": "Python 3"
    },
    "language_info": {
      "name": "python"
    }
  },
  "cells": [
    {
      "cell_type": "markdown",
      "source": [
        "# Python Basic"
      ],
      "metadata": {
        "id": "F9dsrtOHkg0M"
      }
    },
    {
      "cell_type": "markdown",
      "source": [
        "Python Basics Questions\n",
        "\n",
        "1. What is Python, and why is it popular?\n",
        "\n",
        "   - Python is a simple, easy-to-read programming language used to build websites, apps, software, and even control robots or analyze data.\n",
        "\n",
        "     Why it's popular:\n",
        "\n",
        "     Easy to learn: Looks like plain English.\n",
        "\n",
        "     Versatile: Works for web, data, AI, automation, and more.\n",
        "\n",
        "     Lots of support: Huge community and many free libraries/tools.\n",
        "\n",
        "     Used by big companies: Like Google, Netflix,Instagram.\n",
        "\n",
        "2. What is an interpreter in Python?\n",
        "     \n",
        "   - An interpreter is a program that reads and executes Python code line by line, converting it into machine code for the computer to understand.\n",
        "\n",
        "3. What are pre-defined keywords in Python?\n",
        "\n",
        "   - Pre-defined keywords are reserved words that have special meaning in Python, such as if, for, while, True, False, etc.\n",
        "\n",
        "4. Can keywords be used as variable names?  \n",
        "\n",
        "   - No, keywords cannot be used as variable names because they are reserved for specific Python syntax and operations.\n",
        "\n",
        "5. What is mutability in Python?\n",
        "\n",
        "   - Mutability refers to whether an objects value can be changed after it is created. Mutable objects can be changed (e.g., lists), while immutable objects cannot (e.g., tuples, strings).   \n",
        "\n",
        "6. Why are lists mutable, but tuples are immutable?\n",
        "\n",
        "   - Lists are designed to hold changing data, while tuples are used for fixed collections. This design choice allows Python to optimize memory and performance for immutable types.\n",
        "\n",
        "7. What is the difference between \"==\" and \"is\" operators in Python?\n",
        "\n",
        "   - == checks for value equality.\n",
        "\n",
        "     is checks for identity (whether two variables point to the same object in memory).\n",
        "\n",
        "8. What are logical operators in Python?\n",
        "\n",
        "   - Logical operators are used to combine conditional statements:\n",
        "\n",
        "     and, or, not\n",
        "\n",
        "9. What is type casting in Python?\n",
        "  \n",
        "   - Type casting is the process of converting one data type into another, like  converting a string to an integer.\n",
        "\n",
        "10. What is the difference between implicit and explicit type casting?\n",
        "\n",
        "     - Implicit: Done automatically by Python.\n",
        "\n",
        "       Explicit: Done manually using functions like int(), float(), etc.\n",
        "\n",
        "11. What is the purpose of conditional statements in Python?\n",
        "\n",
        "    - They allow decisions to be made in code using conditions (e.g., if, else) to control flow.\n",
        "\n",
        "12. How does the elif statement work?\n",
        "\n",
        "    - elif allows multiple conditions to be checked after an if statement, acting like \"else if\".\n",
        "\n",
        "13. What is the difference between for and while loops?\n",
        "\n",
        "    - for loop is used when the number of iterations is known.\n",
        "\n",
        "      while loop is used when the condition is evaluated at each iteration and may not be known in advance.\n",
        "\n",
        "14. Describe a scenario where a while loop is more suitable than a for loop.\n",
        "\n",
        "    - When waiting for user input until a correct value is entered, a while  \n",
        "      loop is better because the number of iterations is unknown.\n",
        "\n",
        "\n",
        "\n",
        "\n",
        "\n",
        "\n",
        "\n"
      ],
      "metadata": {
        "id": "FZzwjgifjFDF"
      }
    },
    {
      "cell_type": "markdown",
      "source": [
        "\n",
        "# Practical Questions"
      ],
      "metadata": {
        "id": "zzkkA9U7jPkV"
      }
    },
    {
      "cell_type": "code",
      "source": [
        "# 1. Write a Python program to print \"Hello, World!\"\n",
        "\n",
        "print(\"Hello, World!\")"
      ],
      "metadata": {
        "colab": {
          "base_uri": "https://localhost:8080/"
        },
        "id": "GIDW8aEUrr14",
        "outputId": "1ff23990-e038-4f71-f361-7484dc8811f7"
      },
      "execution_count": null,
      "outputs": [
        {
          "output_type": "stream",
          "name": "stdout",
          "text": [
            "Hello, World!\n"
          ]
        }
      ]
    },
    {
      "cell_type": "code",
      "source": [
        "# 2. Write a Python program that displays your name and age.\n",
        "\n",
        "name = \"Talib\"\n",
        "age = 26\n",
        "print(f\"My name is {name} and I am {age} year old.\")"
      ],
      "metadata": {
        "colab": {
          "base_uri": "https://localhost:8080/"
        },
        "id": "sZVdsTgasruY",
        "outputId": "0f503c49-1194-435e-8f63-06410b73778f"
      },
      "execution_count": null,
      "outputs": [
        {
          "output_type": "stream",
          "name": "stdout",
          "text": [
            "My name is Talib and I am 26 year old.\n"
          ]
        }
      ]
    },
    {
      "cell_type": "code",
      "source": [
        "# 3. Write code to print all the pre-defined keywords in Python using the keyword library.\n",
        "\n",
        "\n",
        "import keyword\n",
        "print(\"Python keywords list :\")\n",
        "print(keyword.kwlist)\n",
        "\n"
      ],
      "metadata": {
        "colab": {
          "base_uri": "https://localhost:8080/"
        },
        "id": "r52RWWGKr4Mw",
        "outputId": "38c47d0a-6134-43c9-bdc7-3429f41912aa"
      },
      "execution_count": 23,
      "outputs": [
        {
          "output_type": "stream",
          "name": "stdout",
          "text": [
            "Python keywords list :\n",
            "['False', 'None', 'True', 'and', 'as', 'assert', 'async', 'await', 'break', 'class', 'continue', 'def', 'del', 'elif', 'else', 'except', 'finally', 'for', 'from', 'global', 'if', 'import', 'in', 'is', 'lambda', 'nonlocal', 'not', 'or', 'pass', 'raise', 'return', 'try', 'while', 'with', 'yield']\n"
          ]
        }
      ]
    },
    {
      "cell_type": "code",
      "source": [
        "\n",
        "# 4.Write a program that checks if a given word is a Python keyword.\n",
        "\n",
        "word = input(\"Enter a word: \")\n",
        "if keyword.iskeyword(word):\n",
        "    print(f\"{word} is a Python keyword.\")\n",
        "else:\n",
        "    print(f\"{word} is not a Python keyword.\")\n",
        "\n"
      ],
      "metadata": {
        "id": "uanYHnpouuDM"
      },
      "execution_count": null,
      "outputs": []
    },
    {
      "cell_type": "code",
      "source": [
        "# 5. Create a list and tuple in Python, and demonstrate how attempting to change an element works differently for each.\n",
        "\n",
        "my_list = [1, 2, 3]\n",
        "my_tuple = (1, 2, 3)\n",
        "\n",
        "my_list[0] = 10\n",
        "print(my_list)\n",
        "\n",
        "try:\n",
        "  my_tuple[0] = 10\n",
        "  print(my_tuple)\n",
        "\n",
        "except TypeError:\n",
        "  print(\"Tuples are immutable, so attempting to change an element will result in a TypeError.\")"
      ],
      "metadata": {
        "colab": {
          "base_uri": "https://localhost:8080/"
        },
        "id": "od2FGJeCvqvm",
        "outputId": "ef5fcdc4-45a6-4dd0-99a5-012a3500882c"
      },
      "execution_count": null,
      "outputs": [
        {
          "output_type": "stream",
          "name": "stdout",
          "text": [
            "[10, 2, 3]\n",
            "Tuples are immutable, so attempting to change an element will result in a TypeError.\n"
          ]
        }
      ]
    },
    {
      "cell_type": "code",
      "source": [
        "# 6.  Write a function to demonstrate the behavior of mutable and immutable arguments.\n",
        "\n",
        "\n",
        "def modify_list(lst):\n",
        "    lst.append(4)\n",
        "\n",
        "def modify_int(x):\n",
        "    x += 1\n",
        "    return x\n",
        "\n",
        "a = [1, 2, 3]\n",
        "b = 10\n",
        "\n",
        "modify_list(a)\n",
        "b = modify_int(b)\n",
        "\n",
        "print(\"List:\", a)\n",
        "print(\"Integer:\", b)\n",
        "\n",
        "\n"
      ],
      "metadata": {
        "id": "Ya3z3MSlxSWg",
        "colab": {
          "base_uri": "https://localhost:8080/"
        },
        "outputId": "bd705d87-c5f5-4ae3-a03d-5389d07e457e"
      },
      "execution_count": null,
      "outputs": [
        {
          "output_type": "stream",
          "name": "stdout",
          "text": [
            "List: [1, 2, 3, 4]\n",
            "Integer: 11\n"
          ]
        }
      ]
    },
    {
      "cell_type": "code",
      "source": [
        "# 7. Write a program that performs basic arithmetic operations on two user-input numbers.\n",
        "\n",
        "num1 = float(input(\"Enter the first number: \"))\n",
        "num2 = float(input(\"Enter the second number: \"))\n",
        "\n",
        "sum_result = num1 + num2\n",
        "print(sum_result)"
      ],
      "metadata": {
        "colab": {
          "base_uri": "https://localhost:8080/"
        },
        "id": "iv0d90dk1E3X",
        "outputId": "c35806b3-402f-4a74-899e-d4edc59f8ac2"
      },
      "execution_count": null,
      "outputs": [
        {
          "output_type": "stream",
          "name": "stdout",
          "text": [
            "Enter the first number: 5\n",
            "Enter the second number: 5\n",
            "10.0\n"
          ]
        }
      ]
    },
    {
      "cell_type": "code",
      "source": [
        "# 8. Write a program to demonstrate the use of logical operators.\n",
        "\n",
        "a = True\n",
        "b = False\n",
        "print(a and b)\n",
        "print(a or b)\n",
        "print(not a)\n",
        "\n",
        "\n",
        "\n"
      ],
      "metadata": {
        "colab": {
          "base_uri": "https://localhost:8080/"
        },
        "id": "DWv8xX551m1z",
        "outputId": "0ced4ba7-6062-4007-9388-79c92ad20952"
      },
      "execution_count": null,
      "outputs": [
        {
          "output_type": "stream",
          "name": "stdout",
          "text": [
            "False\n",
            "True\n",
            "False\n"
          ]
        }
      ]
    },
    {
      "cell_type": "code",
      "source": [
        "# 9. Write a Python program to convert user input from string to integer, float,and boolean types.\n",
        "\n",
        "\n",
        "user_input = input(\"Enter a value: \")\n",
        "\n",
        "try:\n",
        "    integer_value = (int(user_input))\n",
        "    print(\"Integer:\", integer_value)\n",
        "except ValueError:\n",
        "    print(\"Cannot convert to integer.\")\n",
        "\n",
        "try:\n",
        "    float_value = float(user_input)\n",
        "    print(\"Float:\", float_value)\n",
        "except ValueError:\n",
        "    print(\"Cannot convert to float.\")\n",
        "\n",
        "boolean_value = bool(user_input)\n",
        "print(\"Boolean:\", boolean_value)\n",
        "\n",
        "\n",
        "\n"
      ],
      "metadata": {
        "colab": {
          "base_uri": "https://localhost:8080/"
        },
        "id": "SrqN26cQ23ro",
        "outputId": "b1609a66-72ab-464d-c9c5-29613313adfc"
      },
      "execution_count": 17,
      "outputs": [
        {
          "output_type": "stream",
          "name": "stdout",
          "text": [
            "Enter a value: bjsd\n",
            "Cannot convert to integer.\n",
            "Cannot convert to float.\n",
            "Boolean: True\n"
          ]
        }
      ]
    },
    {
      "cell_type": "code",
      "source": [
        "\n"
      ],
      "metadata": {
        "id": "SojLQrERrfse"
      },
      "execution_count": null,
      "outputs": []
    },
    {
      "cell_type": "code",
      "source": [
        "# 10. Write code to demonstrate type casting with list elements.\n",
        "list_elements = [1, 1.2, \"talib\", 3 + 2j]\n",
        "type_casted_list = [type(element) for element in list_elements]\n",
        "print(type_casted_list)\n",
        "\n"
      ],
      "metadata": {
        "colab": {
          "base_uri": "https://localhost:8080/"
        },
        "id": "1cS5_oBI72HD",
        "outputId": "058b35b7-cbfc-43ea-ce38-9baee3635e93"
      },
      "execution_count": 11,
      "outputs": [
        {
          "output_type": "stream",
          "name": "stdout",
          "text": [
            "[<class 'int'>, <class 'float'>, <class 'str'>, <class 'complex'>]\n"
          ]
        }
      ]
    },
    {
      "cell_type": "code",
      "source": [
        "\n",
        "# 11. Write a program that checks it a number is positive, negative, or zero.\n",
        "\n",
        "number = float(input(\"Enter a number: \"))\n",
        "\n",
        "if number > 0:\n",
        "    print(\"The number is positive.\")\n",
        "elif number < 0:\n",
        "    print(\"The number is negative.\")\n",
        "else:\n",
        "    print(\"The number is zero.\")"
      ],
      "metadata": {
        "colab": {
          "base_uri": "https://localhost:8080/"
        },
        "id": "_43PIBaC9xW0",
        "outputId": "dc6c5580-77f3-4e11-85b5-093819b7adf1"
      },
      "execution_count": null,
      "outputs": [
        {
          "output_type": "stream",
          "name": "stdout",
          "text": [
            "Enter a number: 1\n",
            "The number is positive.\n"
          ]
        }
      ]
    },
    {
      "cell_type": "code",
      "source": [
        "\n",
        "# 12. Write a for loop to print numbers from 1 to 10.\n",
        "for natural_number in range(1, 11):\n",
        "    print(natural_number)\n",
        "\n",
        "\n",
        "\n",
        "\n"
      ],
      "metadata": {
        "colab": {
          "base_uri": "https://localhost:8080/"
        },
        "id": "q6_hdvmv-m35",
        "outputId": "d5acf19d-8b98-44ac-de7f-eac4795b4ed7"
      },
      "execution_count": null,
      "outputs": [
        {
          "output_type": "stream",
          "name": "stdout",
          "text": [
            "1\n",
            "2\n",
            "3\n",
            "4\n",
            "5\n",
            "6\n",
            "7\n",
            "8\n",
            "9\n",
            "10\n"
          ]
        }
      ]
    },
    {
      "cell_type": "code",
      "source": [
        "\n",
        "# 13. Write a Python program to find the sum of all even numbers between 1 and 50.\n",
        "\n",
        "total_sum = 0\n",
        "for sum_evennumber in range(2, 51, 2):\n",
        "    total_sum += sum_evennumber\n",
        "print(\"the sum of all even numbers between 1 to 50: \",total_sum )\n"
      ],
      "metadata": {
        "colab": {
          "base_uri": "https://localhost:8080/"
        },
        "id": "PeP2-MIL-nP2",
        "outputId": "8421d411-364e-47c8-90de-6e2c180a171d"
      },
      "execution_count": null,
      "outputs": [
        {
          "output_type": "stream",
          "name": "stdout",
          "text": [
            "the sum of all even numbers between 1 to 50:  650\n"
          ]
        }
      ]
    },
    {
      "cell_type": "code",
      "source": [
        "# 14. Write a program to reverse a string using a while loop.\n",
        "\n",
        "string = input(\"Enter a string: \")\n",
        "reversed_string = \"\"\n",
        "index = len(string) - 1\n",
        "\n",
        "while index >= 0:\n",
        "    reversed_string += string[index]\n",
        "    index -= 1\n",
        "\n",
        "print(\"Reversed string:\", reversed_string)"
      ],
      "metadata": {
        "colab": {
          "base_uri": "https://localhost:8080/"
        },
        "id": "O0ycmEPk-oVc",
        "outputId": "3976b6ef-5bc9-4950-ccf5-1d09f57a67cf"
      },
      "execution_count": null,
      "outputs": [
        {
          "output_type": "stream",
          "name": "stdout",
          "text": [
            "Enter a string: talib\n",
            "Reversed string: bilat\n"
          ]
        }
      ]
    },
    {
      "cell_type": "code",
      "source": [
        "# 15. Write a Python program to calculate the factorial of a number provided by the user using a while loop.\n",
        "number = int(input(\"Enter a number: \"))\n",
        "factorial = 1\n",
        "current_number = 1\n",
        "\n",
        "while current_number <= number:\n",
        "    factorial *= current_number\n",
        "    current_number += 1\n",
        "\n",
        "print(f\"The factorial of {number} is {factorial}.\")\n",
        "\n"
      ],
      "metadata": {
        "colab": {
          "base_uri": "https://localhost:8080/"
        },
        "id": "i_58_bZr-pPB",
        "outputId": "fe97b45c-09cc-40d4-d82d-8e27dc359e6c"
      },
      "execution_count": null,
      "outputs": [
        {
          "output_type": "stream",
          "name": "stdout",
          "text": [
            "Enter a number: 4\n",
            "The factorial of 4 is 24.\n"
          ]
        }
      ]
    },
    {
      "cell_type": "code",
      "source": [],
      "metadata": {
        "id": "4sQhPdQYCQ31"
      },
      "execution_count": null,
      "outputs": []
    }
  ]
}